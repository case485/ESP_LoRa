{
 "cells": [
  {
   "cell_type": "code",
   "execution_count": 1,
   "id": "c3012cb8-d501-4078-af83-4f09e257c7a1",
   "metadata": {},
   "outputs": [
    {
     "name": "stdout",
     "output_type": "stream",
     "text": [
      "\u001b[34mConnecting to --port=COM6 --baud=115200 \u001b[0m\n",
      "MicroPython v1.20.0-261-g813d559bc on 2023-06-27; ESP32 module with ESP32\n",
      "Type \"help()\" for more information.\n",
      ">>>[reboot detected 0]repl is in normal command mode\n",
      "[\\r\\x03\\x03] b'\\r\\n>>> '\n",
      "[\\r\\x01] b'\\r\\n>>> \\r\\nraw REPL; CTRL-B to exit\\r\\n>' \u001b[34mReady.\n",
      "\u001b[0m"
     ]
    }
   ],
   "source": [
    "%serialconnect"
   ]
  },
  {
   "cell_type": "code",
   "execution_count": 2,
   "id": "8ef33392-b2b7-4a09-be6e-2eba7821fffa",
   "metadata": {},
   "outputs": [
    {
     "name": "stdout",
     "output_type": "stream",
     "text": [
      "__main__          bluetooth         heapq             select\n",
      "_asyncio          btree             inisetup          socket\n",
      "_boot             builtins          io                ssl\n",
      "_espnow           cmath             json              struct\n",
      "_onewire          collections       machine           sys\n",
      "_thread           cryptolib         math              time\n",
      "_webrepl          dht               micropython       uasyncio\n",
      "apa106            ds18x20           mip/__init__      uctypes\n",
      "array             errno             neopixel          umqtt/robust\n",
      "asyncio/__init__  esp               network           umqtt/simple\n",
      "asyncio/core      esp32             ntptime           upysh\n",
      "asyncio/event     espnow            onewire           urequests\n",
      "asyncio/funcs     flashbdev         os                webrepl\n",
      "asyncio/lock      framebuf          platform          webrepl_setup\n",
      "asyncio/stream    gc                random            websocket\n",
      "binascii          hashlib           re                zlib\n",
      "Plus any modules on the filesystem\n"
     ]
    }
   ],
   "source": [
    "help(\"modules\")"
   ]
  },
  {
   "cell_type": "code",
   "execution_count": 3,
   "id": "9e3fb56a-04b8-44b4-9a83-86b943bf1c81",
   "metadata": {},
   "outputs": [],
   "source": [
    "import network\n"
   ]
  },
  {
   "cell_type": "code",
   "execution_count": 4,
   "id": "cee03a10-579c-4c3e-8b59-4b9aa1edce1e",
   "metadata": {},
   "outputs": [
    {
     "name": "stdout",
     "output_type": "stream",
     "text": [
      "object <module 'network'> is of type module\n",
      "  __name__ -- network\n",
      "  country -- <function>\n",
      "  hostname -- <function>\n",
      "  __init__ -- <function>\n",
      "  WLAN -- <class 'WLAN'>\n",
      "  LAN -- <function>\n",
      "  PPP -- <function>\n",
      "  phy_mode -- <function>\n",
      "  STA_IF -- 0\n",
      "  AP_IF -- 1\n",
      "  MODE_11B -- 1\n",
      "  MODE_11G -- 2\n",
      "  MODE_11N -- 4\n",
      "  MODE_LR -- 8\n",
      "  AUTH_OPEN -- 0\n",
      "  AUTH_WEP -- 1\n",
      "  AUTH_WPA_PSK -- 2\n",
      "  AUTH_WPA2_PSK -- 3\n",
      "  AUTH_WPA_WPA2_PSK -- 4\n",
      "  AUTH_WPA2_ENTERPRISE -- 5\n",
      "  AUTH_WPA3_PSK -- 6\n",
      "  AUTH_WPA2_WPA3_PSK -- 7\n",
      "  AUTH_WAPI_PSK -- 8\n",
      "  AUTH_OWE -- 9\n",
      "  AUTH_MAX -- 10\n",
      "  PHY_LAN8710 -- 0\n",
      "  PHY_LAN8720 -- 1\n",
      "  PHY_IP101 -- 2\n",
      "  PHY_RTL8201 -- 3\n",
      "  PHY_DP83848 -- 4\n",
      "  PHY_KSZ8041 -- 5\n",
      "  PHY_KSZ8081 -- 6\n",
      "  ETH_INITIALIZED -- 0\n",
      "  ETH_STARTED -- 1\n",
      "  ETH_STOPPED -- 2\n",
      "  ETH_CONNECTED -- 3\n",
      "  ETH_DISCONNECTED -- 4\n",
      "  ETH_GOT_IP -- 5\n",
      "  STAT_IDLE -- 1000\n",
      "  STAT_CONNECTING -- 1001\n",
      "  STAT_GOT_IP -- 1010\n",
      "  STAT_NO_AP_FOUND -- 201\n",
      "  STAT_WRONG_PASSWORD -- 202\n",
      "  STAT_BEACON_TIMEOUT -- 200\n",
      "  STAT_ASSOC_FAIL -- 203\n",
      "  STAT_HANDSHAKE_TIMEOUT -- 204\n"
     ]
    }
   ],
   "source": [
    "help(network)"
   ]
  },
  {
   "cell_type": "code",
   "execution_count": null,
   "id": "50b22dbf-42bd-4732-b034-68b1759fe6f1",
   "metadata": {},
   "outputs": [],
   "source": []
  }
 ],
 "metadata": {
  "kernelspec": {
   "display_name": "MicroPython - USB",
   "language": "micropython",
   "name": "micropython"
  },
  "language_info": {
   "codemirror_mode": "python",
   "file_extension": ".py",
   "mimetype": "text/python",
   "name": "micropython"
  }
 },
 "nbformat": 4,
 "nbformat_minor": 5
}
